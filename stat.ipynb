{
 "cells": [
  {
   "cell_type": "code",
   "execution_count": 1,
   "id": "clinical-birth",
   "metadata": {},
   "outputs": [
    {
     "name": "stderr",
     "output_type": "stream",
     "text": [
      "/home/mjlang/miniconda3/lib/python3.8/site-packages/marvin/core/exceptions.py:50: UserWarning: cannot initiate Sentry error reporting: [Errno 25] Inappropriate ioctl for device.\n",
      "  warnings.warn('cannot initiate Sentry error reporting: {0}.'.format(str(ee)),\n",
      "\u001b[0;34m[INFO]: \u001b[0mNo release version set. Setting default to DR15\n"
     ]
    }
   ],
   "source": [
    "import os\n",
    "import math\n",
    "import time\n",
    "from marvin import config\n",
    "\n",
    "config.setRelease('DR16')\n",
    "config.setDR('DR16')\n",
    "config.download = True\n",
    "\n",
    "from marvin.tools.image import Image\n",
    "from marvin.tools import Maps\n",
    "from marvin.tools import Cube\n",
    "\n",
    "import numpy as np\n",
    "\n",
    "import matplotlib.pyplot as plt\n",
    "\n",
    "from astropy.table import Table\n",
    "from astropy.stats import sigma_clipped_stats\n",
    "from astropy.wcs import WCS\n",
    "from astropy.io import fits\n",
    "\n",
    "with fits.open('./data/galaxies_sorted.fits') as hdulist:\n",
    "    plateifu_list = hdulist[1].data['plateifu']\n",
    "    ra = hdulist[1].data['RA']\n",
    "    dec = hdulist[1].data['Dec']\n",
    "    z_list = hdulist[1].data['z']\n",
    "\n",
    "mapnames = 'maps.emline_gflux_ha_6564'\n",
    "errormap = ''\n",
    "\n",
    "lofar_file_path = './data/lofar_imgs/'\n",
    "lofar_list = os.listdir(lofar_file_path)\n",
    "\n",
    "with fits.open('./data/angles.fits') as hdulist:\n",
    "    angles_list = hdulist[1].data['col2']\n",
    "\n",
    "angles_list[11] = 110\n",
    "angles_list[10] = 125\n",
    "angles_list[12] = -70\n",
    "angles_list[13] = -140\n",
    "\n",
    "from astropy.cosmology import FlatLambdaCDM\n",
    "\n",
    "cosmo = FlatLambdaCDM(H0=70, Om0=0.3, Tcmb0=2.725)"
   ]
  },
  {
   "cell_type": "code",
   "execution_count": 2,
   "id": "oriental-caribbean",
   "metadata": {},
   "outputs": [],
   "source": [
    "def get_dl(sample):  # luminosity distance in cm\n",
    "    dl = cosmo.luminosity_distance(z_list[sample]).to_value(unit='cm')\n",
    "    return dl\n",
    "\n",
    "\n",
    "def get_ha(sample):  # get h-alpha emission map\n",
    "    maps = Maps(plateifu=plateifu_list[sample])\n",
    "    ha = maps.emline_gflux_ha_6564\n",
    "    return ha\n",
    "\n",
    "\n",
    "def get_er(sample):  # get effective radii map\n",
    "    maps = Maps(plateifu=plateifu_list[sample])\n",
    "    er = maps.spx_ellcoo_r_re\n",
    "    return er\n",
    "\n",
    "\n",
    "def get_ha_snr(sample):  # get h-alpha emission snr map\n",
    "    maps = Maps(plateifu=plateifu_list[sample])\n",
    "    ha = maps.emline_gflux_ha_6564\n",
    "    ha_snr = ha.snr\n",
    "    return ha_snr\n",
    "\n",
    "\n",
    "''' \n",
    "def masked_image(sample, min_snr, max_radii): # remain the unit of erg / s spaxel cm^2\n",
    "    ha = get_ha(sample)\n",
    "    er = get_er(sample)\n",
    "    drpall_mask = ha.pixmask.get_mask(['DONOTUSE', 'UNRELIABLE','NOCOV'],dtype=bool)\n",
    "    snr_mask = (ha.snr < min_snr) + drpall_mask\n",
    "    radii_mask = (er.value > max_radii) + drpall_mask\n",
    "    masked_image = np.ma.array(ha.data, mask = snr_mask+radii_mask)\n",
    "    return masked_image\n",
    "'''\n",
    "\n",
    "\n",
    "def masked_image(sample, min_snr,\n",
    "                 max_radii):  # convert to Luminostiy (erg / s spaxel)\n",
    "    ha = get_ha(sample)\n",
    "    er = get_er(sample)\n",
    "    drpall_mask = ha.pixmask.get_mask(['DONOTUSE', 'UNRELIABLE', 'NOCOV'],\n",
    "                                      dtype=bool)\n",
    "    snr_mask = (ha.snr < min_snr) + drpall_mask\n",
    "    radii_mask = (er.value > max_radii) + drpall_mask\n",
    "    masked_image = np.ma.array(ha.data, mask=snr_mask + radii_mask)\n",
    "    dl = get_dl(sample)\n",
    "    masked_lumi = masked_image * 1e-17 * 4 * math.pi * (dl**2)\n",
    "    return masked_lumi\n",
    "\n",
    "\n",
    "def cut(sample, min_snr, max_radii):\n",
    "    ha = masked_image(sample, min_snr, max_radii)\n",
    "    ha_trail = masked_image(sample, min_snr, max_radii)\n",
    "    ha_lead = masked_image(sample, min_snr, max_radii)\n",
    "    er = get_er(sample)\n",
    "    m = er.shape[0]\n",
    "    n = er.shape[1]\n",
    "    center = np.unravel_index(np.argmin(er), er.shape)\n",
    "    u = math.cos(math.radians(angles_list[sample]))\n",
    "    v = math.sin(math.radians(angles_list[sample]))\n",
    "    #dv = np.array([v, u]) #direction vactor\n",
    "    index = np.indices((m, n))\n",
    "    vactor_row = index[0] - center[0]\n",
    "    vactor_col = index[1] - center[1]\n",
    "    inner_product = vactor_row * v + vactor_col * u  # the inner product of direction vactor and pixel location vactor\n",
    "    ha_lead.mask = ha_lead.mask + (inner_product >= 0)\n",
    "    ha_trail.mask = ha_trail.mask + (inner_product <= 0)\n",
    "    return ha, ha_lead, ha_trail\n",
    "\n",
    "\n",
    "def area(sample, min_snr, max_radii):\n",
    "    h, l, t = cut(sample, min_snr, max_radii)\n",
    "    lead_area = sum(sum(l.mask == False))\n",
    "    trail_area = sum(sum(t.mask == False))\n",
    "    return lead_area, trail_area\n",
    "\n",
    "\n",
    "def sum_stat(sample, min_snr, max_radii):\n",
    "    h, l, t = cut(sample, min_snr, max_radii)\n",
    "    lead_sum = np.ma.sum(l)\n",
    "    trail_sum = np.ma.sum(t)\n",
    "    return lead_sum, trail_sum\n",
    "\n",
    "\n",
    "def sum_error(sample, min_snr, max_radii):\n",
    "    h, l, t = cut(sample, min_snr, max_radii)\n",
    "    snr = get_ha_snr(sample)\n",
    "    lead_error = np.ma.sum(l / snr)\n",
    "    trail_error = np.ma.sum(t / snr)\n",
    "    return lead_error, trail_error\n",
    "\n",
    "\n",
    "def median_stat(sample, min_snr, max_radii):\n",
    "    h, l, t = cut(sample, min_snr, max_radii)\n",
    "    lead_median = np.ma.median(l)\n",
    "    trail_median = np.ma.median(t)\n",
    "    return lead_median, trail_median"
   ]
  },
  {
   "cell_type": "code",
   "execution_count": 1,
   "id": "renewable-vampire",
   "metadata": {},
   "outputs": [
    {
     "ename": "NameError",
     "evalue": "name 'time' is not defined",
     "output_type": "error",
     "traceback": [
      "\u001b[0;31m---------------------------------------------------------------------------\u001b[0m",
      "\u001b[0;31mNameError\u001b[0m                                 Traceback (most recent call last)",
      "\u001b[0;32m<ipython-input-1-7b5f40a7ad30>\u001b[0m in \u001b[0;36m<module>\u001b[0;34m\u001b[0m\n\u001b[0;32m----> 1\u001b[0;31m \u001b[0mstart\u001b[0m \u001b[0;34m=\u001b[0m \u001b[0mtime\u001b[0m\u001b[0;34m.\u001b[0m\u001b[0mtime\u001b[0m\u001b[0;34m(\u001b[0m\u001b[0;34m)\u001b[0m\u001b[0;34m\u001b[0m\u001b[0;34m\u001b[0m\u001b[0m\n\u001b[0m\u001b[1;32m      2\u001b[0m \u001b[0mh\u001b[0m\u001b[0;34m,\u001b[0m \u001b[0ml\u001b[0m\u001b[0;34m,\u001b[0m \u001b[0mt\u001b[0m \u001b[0;34m=\u001b[0m \u001b[0mcut\u001b[0m\u001b[0;34m(\u001b[0m\u001b[0;36m2\u001b[0m\u001b[0;34m,\u001b[0m \u001b[0;36m3\u001b[0m\u001b[0;34m,\u001b[0m \u001b[0;36m1.5\u001b[0m\u001b[0;34m)\u001b[0m\u001b[0;34m\u001b[0m\u001b[0;34m\u001b[0m\u001b[0m\n\u001b[1;32m      3\u001b[0m \u001b[0mend\u001b[0m \u001b[0;34m=\u001b[0m \u001b[0mtime\u001b[0m\u001b[0;34m.\u001b[0m\u001b[0mtime\u001b[0m\u001b[0;34m(\u001b[0m\u001b[0;34m)\u001b[0m\u001b[0;34m\u001b[0m\u001b[0;34m\u001b[0m\u001b[0m\n\u001b[1;32m      4\u001b[0m \u001b[0mprint\u001b[0m\u001b[0;34m(\u001b[0m\u001b[0mend\u001b[0m \u001b[0;34m-\u001b[0m \u001b[0mstart\u001b[0m\u001b[0;34m)\u001b[0m\u001b[0;34m\u001b[0m\u001b[0;34m\u001b[0m\u001b[0m\n\u001b[1;32m      5\u001b[0m \u001b[0;34m\u001b[0m\u001b[0m\n",
      "\u001b[0;31mNameError\u001b[0m: name 'time' is not defined"
     ]
    }
   ],
   "source": [
    "start = time.time()\n",
    "h, l, t = cut(2, 3, 1.5)\n",
    "end = time.time()\n",
    "print(end - start)\n",
    "\n",
    "fig, axs = plt.subplots(2, 1, figsize=(4, 8))\n",
    "axs[0].imshow(l, origin='lower')\n",
    "axs[1].imshow(t, origin='lower')\n",
    "print(str(np.ma.sum(l)) + '_' + str(np.ma.median(l)))\n",
    "print(str(np.ma.sum(t)) + '_' + str(np.ma.median(t)))"
   ]
  },
  {
   "cell_type": "code",
   "execution_count": 3,
   "id": "spoken-lotus",
   "metadata": {},
   "outputs": [],
   "source": [
    "def stat_table(min_snr, max_radii):\n",
    "\n",
    "    l_area_l = np.zeros(shape=(23), dtype='int')\n",
    "    t_area_l = np.zeros(shape=(23), dtype='int')\n",
    "    for i in range(23):\n",
    "        l_area, t_area = area(i, min_snr, max_radii)\n",
    "        l_area_l[i] = l_area\n",
    "        t_area_l[i] = t_area\n",
    "\n",
    "    l_sum_l = np.zeros(shape=(23), dtype='float64')\n",
    "    t_sum_l = np.zeros(shape=(23), dtype='float64')\n",
    "\n",
    "    for i in range(23):\n",
    "        l_sum, t_sum = sum_stat(i, min_snr, max_radii)\n",
    "        l_sum_l[i] = l_sum\n",
    "        t_sum_l[i] = t_sum\n",
    "\n",
    "    l_median_l = np.zeros(shape=(23), dtype='float64')\n",
    "    t_median_l = np.zeros(shape=(23), dtype='float64')\n",
    "\n",
    "    for i in range(23):\n",
    "        l_median, t_median = median_stat(i, min_snr, max_radii)\n",
    "        l_median_l[i] = l_median\n",
    "        t_median_l[i] = t_median\n",
    "\n",
    "    l_sum_error_l = np.zeros(shape=(23), dtype='float64')\n",
    "    t_sum_error_l = np.zeros(shape=(23), dtype='float64')\n",
    "\n",
    "    for i in range(23):\n",
    "        l_sum_error, t_sum_error = sum_error(i, min_snr, max_radii)\n",
    "        l_sum_error_l[i] = l_sum_error\n",
    "        t_sum_error_l[i] = t_sum_error\n",
    "\n",
    "    num = np.arange(23)\n",
    "    t = Table([\n",
    "        num, plateifu_list, l_sum_l, t_sum_l, l_median_l, t_median_l, l_area_l,\n",
    "        t_area_l, l_sum_error_l, t_sum_error_l\n",
    "    ],\n",
    "              names=('num', 'ifu_id', 'l_sum', 't_sum', 'l_median', 't_median',\n",
    "                     'l_area', 't_area', 'l_error', 't_error'))\n",
    "    #t.write('stat.fits',format='fits')\n",
    "    return t"
   ]
  },
  {
   "cell_type": "code",
   "execution_count": 4,
   "id": "compact-midwest",
   "metadata": {},
   "outputs": [
    {
     "name": "stdout",
     "output_type": "stream",
     "text": [
      "CPU times: user 1min 15s, sys: 494 ms, total: 1min 16s\n",
      "Wall time: 1min 16s\n"
     ]
    },
    {
     "data": {
      "text/html": [
       "<i>Table length=23</i>\n",
       "<table id=\"table140669386828816\" class=\"table-striped table-bordered table-condensed\">\n",
       "<thead><tr><th>num</th><th>ifu_id</th><th>l_sum</th><th>t_sum</th><th>l_median</th><th>t_median</th><th>l_area</th><th>t_area</th><th>l_error</th><th>t_error</th></tr></thead>\n",
       "<thead><tr><th>int64</th><th>str11</th><th>float64</th><th>float64</th><th>float64</th><th>float64</th><th>int64</th><th>int64</th><th>float64</th><th>float64</th></tr></thead>\n",
       "<tr><td>0</td><td>8944-6101</td><td>2.6660413015738297e+40</td><td>1.6877231815899403e+40</td><td>2.6998805015856555e+38</td><td>1.6278255004301124e+38</td><td>89</td><td>91</td><td>2.1263811052848224e+38</td><td>1.8427709115827813e+38</td></tr>\n",
       "<tr><td>1</td><td>8934-3701</td><td>7.623536992229409e+40</td><td>2.688655583702627e+40</td><td>2.3294660430118437e+38</td><td>1.1373291479996948e+38</td><td>170</td><td>145</td><td>1.587735551709102e+38</td><td>8.811481436307738e+37</td></tr>\n",
       "<tr><td>2</td><td>8932-12701</td><td>7.385801845874348e+40</td><td>4.0092121618613787e+40</td><td>4.642606647278126e+37</td><td>2.128412087075093e+37</td><td>1344</td><td>1283</td><td>8.70644468281625e+38</td><td>7.06901483737372e+38</td></tr>\n",
       "<tr><td>3</td><td>9876-3702</td><td>4.518559776612843e+40</td><td>3.558869686968966e+40</td><td>1.696420797026657e+38</td><td>1.6649866874906094e+38</td><td>169</td><td>170</td><td>1.9227151775441085e+38</td><td>1.801377961450166e+38</td></tr>\n",
       "<tr><td>4</td><td>8932-3701</td><td>1.060287205604258e+41</td><td>6.531887566367228e+40</td><td>3.9044513906399966e+38</td><td>2.2502133046465648e+38</td><td>253</td><td>253</td><td>3.930007636584081e+38</td><td>3.136264303327599e+38</td></tr>\n",
       "<tr><td>5</td><td>8950-12705</td><td>1.033408943464088e+40</td><td>1.5226379355683756e+40</td><td>3.120617020225508e+37</td><td>4.290721331296075e+37</td><td>247</td><td>300</td><td>2.4028971168820136e+38</td><td>2.8660934446830293e+38</td></tr>\n",
       "<tr><td>6</td><td>8950-1901</td><td>1.6629533270582616e+40</td><td>1.4030556101817607e+40</td><td>2.412615960794388e+38</td><td>1.901108015091796e+38</td><td>71</td><td>72</td><td>1.0490642606181979e+38</td><td>9.724520013410612e+37</td></tr>\n",
       "<tr><td>7</td><td>8931-3703</td><td>9.541180347639199e+39</td><td>9.167271766550804e+39</td><td>2.8703982509037878e+37</td><td>3.8028307599905273e+37</td><td>177</td><td>176</td><td>1.0480219246937903e+38</td><td>1.068098354777997e+38</td></tr>\n",
       "<tr><td>8</td><td>9876-3703</td><td>9.235054537020155e+39</td><td>7.772709107488944e+39</td><td>1.8522904318793166e+37</td><td>1.5181110833947053e+37</td><td>245</td><td>244</td><td>7.543511776305093e+37</td><td>7.110008084583983e+37</td></tr>\n",
       "<tr><td>9</td><td>9863-12701</td><td>1.2606376429774417e+40</td><td>1.168739287452207e+40</td><td>4.0055247157239513e+37</td><td>3.1370957276630736e+37</td><td>223</td><td>224</td><td>9.977084779501493e+37</td><td>9.940643221591634e+37</td></tr>\n",
       "<tr><td>...</td><td>...</td><td>...</td><td>...</td><td>...</td><td>...</td><td>...</td><td>...</td><td>...</td><td>...</td></tr>\n",
       "<tr><td>13</td><td>8603-9102</td><td>1.1978523345806999e+41</td><td>7.904830980792841e+40</td><td>2.1370360290061537e+38</td><td>1.2204883459413761e+38</td><td>568</td><td>569</td><td>1.0057675375438302e+39</td><td>8.536594258717387e+38</td></tr>\n",
       "<tr><td>14</td><td>8604-9102</td><td>1.6858056499989813e+41</td><td>2.4157362557346674e+41</td><td>1.9919760544520686e+38</td><td>3.892054428100094e+38</td><td>456</td><td>454</td><td>7.082646701246688e+38</td><td>8.461903575604728e+38</td></tr>\n",
       "<tr><td>15</td><td>8550-3701</td><td>2.1671169893905564e+40</td><td>2.0766000728208962e+40</td><td>7.72926157702409e+37</td><td>6.990512837294746e+37</td><td>118</td><td>117</td><td>1.7021679214052593e+38</td><td>1.61522966516894e+38</td></tr>\n",
       "<tr><td>16</td><td>8312-12703</td><td>1.2377376579351463e+41</td><td>1.3038234006806593e+41</td><td>1.0215832104328485e+38</td><td>1.3450681731204397e+38</td><td>804</td><td>794</td><td>1.1540223833355776e+39</td><td>1.1919322646043351e+39</td></tr>\n",
       "<tr><td>17</td><td>9869-12702</td><td>4.2513701229544436e+40</td><td>3.835736188685491e+40</td><td>6.790913308392944e+37</td><td>6.165489143188656e+37</td><td>312</td><td>312</td><td>4.461434633936148e+38</td><td>4.238189046282161e+38</td></tr>\n",
       "<tr><td>18</td><td>9869-9102</td><td>2.1121689013830935e+40</td><td>2.8815021340891544e+40</td><td>5.147022616303583e+36</td><td>6.94705682029062e+36</td><td>462</td><td>468</td><td>3.280623930373808e+38</td><td>3.616910887419674e+38</td></tr>\n",
       "<tr><td>19</td><td>8550-6103</td><td>3.208324339972595e+40</td><td>2.739027856175724e+40</td><td>6.358511057717643e+37</td><td>4.967934531096863e+37</td><td>486</td><td>487</td><td>3.7873341754074404e+38</td><td>3.530561690237303e+38</td></tr>\n",
       "<tr><td>20</td><td>8978-9101</td><td>3.84985875723973e+40</td><td>3.143140113057156e+40</td><td>5.043060434367679e+37</td><td>4.0142346060403896e+37</td><td>645</td><td>644</td><td>7.326648042137412e+38</td><td>7.14565098887735e+38</td></tr>\n",
       "<tr><td>21</td><td>8625-9102</td><td>2.9139058099899105e+40</td><td>2.7114008585252676e+40</td><td>3.8450165126483084e+37</td><td>2.642023625906253e+37</td><td>693</td><td>693</td><td>4.535320970823763e+38</td><td>4.2462229752611e+38</td></tr>\n",
       "<tr><td>22</td><td>8625-12702</td><td>3.7041131120646185e+40</td><td>2.3370974315207853e+40</td><td>7.816450863816183e+37</td><td>4.067906320042025e+37</td><td>518</td><td>521</td><td>4.2550970844064235e+38</td><td>3.754152151436405e+38</td></tr>\n",
       "</table>"
      ],
      "text/plain": [
       "<Table length=23>\n",
       " num     ifu_id   ...        l_error                t_error        \n",
       "int64    str11    ...        float64                float64        \n",
       "----- ----------- ... ---------------------- ----------------------\n",
       "    0 8944-6101   ... 2.1263811052848224e+38 1.8427709115827813e+38\n",
       "    1 8934-3701   ...  1.587735551709102e+38  8.811481436307738e+37\n",
       "    2 8932-12701  ...   8.70644468281625e+38   7.06901483737372e+38\n",
       "    3 9876-3702   ... 1.9227151775441085e+38  1.801377961450166e+38\n",
       "    4 8932-3701   ...  3.930007636584081e+38  3.136264303327599e+38\n",
       "    5 8950-12705  ... 2.4028971168820136e+38 2.8660934446830293e+38\n",
       "    6 8950-1901   ... 1.0490642606181979e+38  9.724520013410612e+37\n",
       "    7 8931-3703   ... 1.0480219246937903e+38  1.068098354777997e+38\n",
       "    8 9876-3703   ...  7.543511776305093e+37  7.110008084583983e+37\n",
       "    9 9863-12701  ...  9.977084779501493e+37  9.940643221591634e+37\n",
       "  ...         ... ...                    ...                    ...\n",
       "   13 8603-9102   ... 1.0057675375438302e+39  8.536594258717387e+38\n",
       "   14 8604-9102   ...  7.082646701246688e+38  8.461903575604728e+38\n",
       "   15 8550-3701   ... 1.7021679214052593e+38   1.61522966516894e+38\n",
       "   16 8312-12703  ... 1.1540223833355776e+39 1.1919322646043351e+39\n",
       "   17 9869-12702  ...  4.461434633936148e+38  4.238189046282161e+38\n",
       "   18 9869-9102   ...  3.280623930373808e+38  3.616910887419674e+38\n",
       "   19 8550-6103   ... 3.7873341754074404e+38  3.530561690237303e+38\n",
       "   20 8978-9101   ...  7.326648042137412e+38   7.14565098887735e+38\n",
       "   21 8625-9102   ...  4.535320970823763e+38    4.2462229752611e+38\n",
       "   22 8625-12702  ... 4.2550970844064235e+38  3.754152151436405e+38"
      ]
     },
     "execution_count": 4,
     "metadata": {},
     "output_type": "execute_result"
    }
   ],
   "source": [
    "%%time\n",
    "t_1 = stat_table(3, 1.5)\n",
    "t_1"
   ]
  },
  {
   "cell_type": "code",
   "execution_count": 115,
   "id": "amino-veteran",
   "metadata": {},
   "outputs": [],
   "source": [
    "t_1.write('stat_3_25_2.fits', format='fits')"
   ]
  },
  {
   "cell_type": "code",
   "execution_count": 13,
   "id": "thermal-indiana",
   "metadata": {},
   "outputs": [],
   "source": [
    "def rot_180(sample, min_snr, max_radii):\n",
    "    ha = masked_image(sample, min_snr, max_radii)\n",
    "    ha_mask = ha.mask\n",
    "    ha = np.delete(ha, 0, axis=0)\n",
    "    ha = np.delete(ha, 0, axis=1)\n",
    "    ha_mask = np.delete(ha_mask, 0, axis=0)\n",
    "    ha_mask = np.delete(ha_mask, 0, axis=1)\n",
    "    #print(ha.shape)\n",
    "    ha_rot = ha[::-1, ::-1]\n",
    "    ha_mask_rot = ha_mask[::-1, ::-1]\n",
    "    ha = np.ma.masked_array(ha, ha_mask)\n",
    "    ha_rot = np.ma.masked_array(ha_rot, ha_mask_rot)\n",
    "    return ha, ha_rot\n",
    "\n",
    "\n",
    "def asy(sample, min_snr, max_radii):\n",
    "    ha, ha_rot = rot_180(sample, min_snr, max_radii)\n",
    "    A = np.ma.sum(abs(ha - ha_rot)) / (2 * np.ma.sum(ha))\n",
    "    return A"
   ]
  },
  {
   "cell_type": "code",
   "execution_count": 3,
   "id": "super-training",
   "metadata": {},
   "outputs": [
    {
     "ename": "NameError",
     "evalue": "name 'rot_180' is not defined",
     "output_type": "error",
     "traceback": [
      "\u001b[0;31m---------------------------------------------------------------------------\u001b[0m",
      "\u001b[0;31mNameError\u001b[0m                                 Traceback (most recent call last)",
      "\u001b[0;32m<ipython-input-3-97b54ed86752>\u001b[0m in \u001b[0;36m<module>\u001b[0;34m\u001b[0m\n\u001b[0;32m----> 1\u001b[0;31m \u001b[0mha\u001b[0m\u001b[0;34m,\u001b[0m \u001b[0mha_rot\u001b[0m \u001b[0;34m=\u001b[0m \u001b[0mrot_180\u001b[0m\u001b[0;34m(\u001b[0m\u001b[0;36m2\u001b[0m\u001b[0;34m,\u001b[0m \u001b[0;36m3\u001b[0m\u001b[0;34m,\u001b[0m \u001b[0;36m2\u001b[0m\u001b[0;34m)\u001b[0m\u001b[0;34m\u001b[0m\u001b[0;34m\u001b[0m\u001b[0m\n\u001b[0m\u001b[1;32m      2\u001b[0m \u001b[0mfig\u001b[0m\u001b[0;34m,\u001b[0m \u001b[0maxs\u001b[0m \u001b[0;34m=\u001b[0m \u001b[0mplt\u001b[0m\u001b[0;34m.\u001b[0m\u001b[0msubplots\u001b[0m\u001b[0;34m(\u001b[0m\u001b[0;36m1\u001b[0m\u001b[0;34m,\u001b[0m \u001b[0;36m2\u001b[0m\u001b[0;34m,\u001b[0m \u001b[0mfigsize\u001b[0m\u001b[0;34m=\u001b[0m\u001b[0;34m(\u001b[0m\u001b[0;36m6\u001b[0m\u001b[0;34m,\u001b[0m \u001b[0;36m3\u001b[0m\u001b[0;34m)\u001b[0m\u001b[0;34m)\u001b[0m\u001b[0;34m\u001b[0m\u001b[0;34m\u001b[0m\u001b[0m\n\u001b[1;32m      3\u001b[0m \u001b[0maxs\u001b[0m\u001b[0;34m[\u001b[0m\u001b[0;36m0\u001b[0m\u001b[0;34m]\u001b[0m\u001b[0;34m.\u001b[0m\u001b[0mimshow\u001b[0m\u001b[0;34m(\u001b[0m\u001b[0mha\u001b[0m\u001b[0;34m,\u001b[0m \u001b[0morigin\u001b[0m\u001b[0;34m=\u001b[0m\u001b[0;34m'lower'\u001b[0m\u001b[0;34m)\u001b[0m\u001b[0;34m\u001b[0m\u001b[0;34m\u001b[0m\u001b[0m\n\u001b[1;32m      4\u001b[0m \u001b[0maxs\u001b[0m\u001b[0;34m[\u001b[0m\u001b[0;36m0\u001b[0m\u001b[0;34m]\u001b[0m\u001b[0;34m.\u001b[0m\u001b[0mcolorbar\u001b[0m\u001b[0;34m(\u001b[0m\u001b[0;34m)\u001b[0m\u001b[0;34m\u001b[0m\u001b[0;34m\u001b[0m\u001b[0m\n\u001b[1;32m      5\u001b[0m \u001b[0maxs\u001b[0m\u001b[0;34m[\u001b[0m\u001b[0;36m1\u001b[0m\u001b[0;34m]\u001b[0m\u001b[0;34m.\u001b[0m\u001b[0mimshow\u001b[0m\u001b[0;34m(\u001b[0m\u001b[0mha_rot\u001b[0m\u001b[0;34m,\u001b[0m \u001b[0morigin\u001b[0m\u001b[0;34m=\u001b[0m\u001b[0;34m'lower'\u001b[0m\u001b[0;34m)\u001b[0m\u001b[0;34m\u001b[0m\u001b[0;34m\u001b[0m\u001b[0m\n",
      "\u001b[0;31mNameError\u001b[0m: name 'rot_180' is not defined"
     ]
    }
   ],
   "source": [
    "ha, ha_rot = rot_180(2, 3, 2)\n",
    "fig, axs = plt.subplots(1, 2, figsize=(6, 3))\n",
    "axs[0].imshow(ha, origin='lower')\n",
    "axs[0].colorbar()\n",
    "axs[1].imshow(ha_rot, origin='lower')\n",
    "axs[1].colorbar()"
   ]
  },
  {
   "cell_type": "code",
   "execution_count": 57,
   "id": "artificial-playlist",
   "metadata": {},
   "outputs": [],
   "source": [
    "A = np.arange(23, dtype='float64')\n",
    "num = np.arange(23)\n",
    "\n",
    "for i in range(23):\n",
    "    A[i] = asy(i, 3, 1.5)\n",
    "\n",
    "A_t = Table([num, A], names=('num', 'A'))\n",
    "A_t.write('A.fits', format='fits')"
   ]
  },
  {
   "cell_type": "code",
   "execution_count": 120,
   "id": "infinite-grace",
   "metadata": {
    "scrolled": true
   },
   "outputs": [
    {
     "data": {
      "text/plain": [
       "<matplotlib.image.AxesImage at 0x7f28dae8c1f0>"
      ]
     },
     "execution_count": 120,
     "metadata": {},
     "output_type": "execute_result"
    },
    {
     "data": {
      "image/png": "[encoded data removed]",
      "text/plain": [
       "<Figure size 432x288 with 1 Axes>"
      ]
     },
     "metadata": {
      "needs_background": "light"
     },
     "output_type": "display_data"
    }
   ],
   "source": [
    "sample = 2\n",
    "min_snr = 3\n",
    "max_radii = 1.5\n",
    "\n",
    "h, l, t = cut(sample, min_snr, max_radii)\n",
    "snr = get_ha_snr(sample)\n",
    "lead_error = np.ma.sum(l / snr)\n",
    "trail_error = np.ma.sum(t / snr)"
   ]
  },
  {
   "cell_type": "code",
   "execution_count": 123,
   "id": "individual-mount",
   "metadata": {
    "scrolled": true
   },
   "outputs": [
    {
     "data": {
      "text/plain": [
       "<matplotlib.colorbar.Colorbar at 0x7f28dad1a370>"
      ]
     },
     "execution_count": 123,
     "metadata": {},
     "output_type": "execute_result"
    },
    {
     "data": {
      "image/png": "[encoded data removed]",
      "text/plain": [
       "<Figure size 432x288 with 2 Axes>"
      ]
     },
     "metadata": {
      "needs_background": "light"
     },
     "output_type": "display_data"
    }
   ],
   "source": [
    "plt.imshow(l / snr)\n",
    "plt.colorbar()\n",
    "plt.imshow()"
   ]
  },
  {
   "cell_type": "code",
   "execution_count": 94,
   "id": "american-dallas",
   "metadata": {},
   "outputs": [
    {
     "data": {
      "text/plain": [
       "numpy.ndarray"
      ]
     },
     "execution_count": 94,
     "metadata": {},
     "output_type": "execute_result"
    }
   ],
   "source": [
    "type(get_ha_snr(2))"
   ]
  },
  {
   "cell_type": "code",
   "execution_count": 101,
   "id": "alert-active",
   "metadata": {
    "scrolled": false
   },
   "outputs": [
    {
     "data": {
      "text/plain": [
       "(8.70644468281625e+38, 7.06901483737372e+38)"
      ]
     },
     "execution_count": 101,
     "metadata": {},
     "output_type": "execute_result"
    }
   ],
   "source": [
    "sum_error(2, 3, 1.5)"
   ]
  },
  {
   "cell_type": "code",
   "execution_count": 99,
   "id": "difficult-meter",
   "metadata": {},
   "outputs": [
    {
     "data": {
      "text/plain": [
       "(7.385801845874348e+40, 4.0092121618613787e+40)"
      ]
     },
     "execution_count": 99,
     "metadata": {},
     "output_type": "execute_result"
    }
   ],
   "source": [
    "sum_stat(2, 3, 1.5)"
   ]
  }
 ],
 "metadata": {
  "kernelspec": {
   "display_name": "Python 3",
   "language": "python",
   "name": "python3"
  },
  "language_info": {
   "codemirror_mode": {
    "name": "ipython",
    "version": 3
   },
   "file_extension": ".py",
   "mimetype": "text/x-python",
   "name": "python",
   "nbconvert_exporter": "python",
   "pygments_lexer": "ipython3",
   "version": "3.9.2"
  }
 },
 "nbformat": 4,
 "nbformat_minor": 5
}
