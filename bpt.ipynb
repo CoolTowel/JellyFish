{
 "cells": [
  {
   "cell_type": "code",
   "execution_count": 14,
   "id": "given-builder",
   "metadata": {},
   "outputs": [],
   "source": [
    "for sample in range(23):\n",
    "    maps = Maps(plateifu=plateifu_list[sample])\n",
    "\n",
    "    # make a standard 3-plot BPT and retrieve the classifications\n",
    "    masks, fig, axes = maps.get_bpt()\n",
    "    fig.suptitle(str(sample)+'_'+plateifu_list[sample]+'_BPT',fontsize=18,y=0.95)\n",
    "    fig.savefig('./BPT/'+str(sample)+'_'+plateifu_list[sample]+'.png')"
   ]
  }
 ],
 "metadata": {
  "kernelspec": {
   "display_name": "Python 3",
   "language": "python",
   "name": "python3"
  },
  "language_info": {
   "codemirror_mode": {
    "name": "ipython",
    "version": 3
   },
   "file_extension": ".py",
   "mimetype": "text/x-python",
   "name": "python",
   "nbconvert_exporter": "python",
   "pygments_lexer": "ipython3",
   "version": "3.8.5"
  }
 },
 "nbformat": 4,
 "nbformat_minor": 5
}
